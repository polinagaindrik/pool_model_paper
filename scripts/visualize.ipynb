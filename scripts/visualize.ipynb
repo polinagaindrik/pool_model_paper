{
 "cells": [
  {
   "cell_type": "code",
   "execution_count": 21,
   "metadata": {},
   "outputs": [
    {
     "name": "stdout",
     "output_type": "stream",
     "text": [
      "The autoreload extension is already loaded. To reload it, use:\n",
      "  %reload_ext autoreload\n"
     ]
    }
   ],
   "source": [
    "%load_ext autoreload\n",
    "%autoreload 2"
   ]
  },
  {
   "cell_type": "code",
   "execution_count": 22,
   "metadata": {},
   "outputs": [],
   "source": [
    "import importlib\n",
    "import cr_pool as crp\n",
    "crp = importlib.reload(crp)"
   ]
  },
  {
   "cell_type": "code",
   "execution_count": null,
   "metadata": {},
   "outputs": [
    {
     "name": "stdout",
     "output_type": "stream",
     "text": [
      "Loading Cell Data\n"
     ]
    },
    {
     "name": "stderr",
     "output_type": "stream",
     "text": [
      "100%|██████████| 41/41 [03:42<00:00,  5.43s/it]\n"
     ]
    },
    {
     "name": "stdout",
     "output_type": "stream",
     "text": [
      "Loading Voxel Data\n"
     ]
    },
    {
     "name": "stderr",
     "output_type": "stream",
     "text": [
      "100%|██████████| 41/41 [00:09<00:00,  4.31it/s]\n"
     ]
    }
   ],
   "source": [
    "output_path = crp.get_last_output_path(prefix=\"../out\")\n",
    "\n",
    "domain, initial_cells, meta_params = crp.get_simulation_settings(output_path)\n",
    "max_iter = max(crp.get_all_iterations(output_path))\n",
    "\n",
    "data_cells, data_voxels = crp.analyze_all_cell_voxel_data(output_path, meta_params)"
   ]
  },
  {
   "cell_type": "code",
   "execution_count": null,
   "metadata": {},
   "outputs": [],
   "source": [
    "crp.load_style()\n",
    "# crp.print_cell_properties(output_path)\n",
    "# crp.print_domain_properties(output_path)\n",
    "\n",
    "crp.plot_growth_curve(data_cells, output_path)\n",
    "crp.plot_nutrients(data_voxels, output_path)\n",
    "crp.plot_comparisons(data_cells, output_path)\n",
    "\n",
    "crp.save_all_snapshots(output_path)\n",
    "crp.save_movie(output_path)"
   ]
  }
 ],
 "metadata": {
  "kernelspec": {
   "display_name": ".venv",
   "language": "python",
   "name": "python3"
  },
  "language_info": {
   "codemirror_mode": {
    "name": "ipython",
    "version": 3
   },
   "file_extension": ".py",
   "mimetype": "text/x-python",
   "name": "python",
   "nbconvert_exporter": "python",
   "pygments_lexer": "ipython3",
   "version": "3.13.7"
  }
 },
 "nbformat": 4,
 "nbformat_minor": 2
}
